{
 "cells": [
  {
   "attachments": {},
   "cell_type": "markdown",
   "id": "457a6a91-117e-41b3-be96-ffa6ac9d92e7",
   "metadata": {
    "id": "457a6a91-117e-41b3-be96-ffa6ac9d92e7"
   },
   "source": [
    "# M2 | Exploration Notebook\n",
    "\n",
    "In this notebook, you will do a first exploration of the data set that you will use for your project. One part of this exploration is guided, i.e. we will ask you to solve specific questions (task 1-3). The other part is open, i.e. we will ask you to come up with your own exploration ideas (task 4). \n",
    "\n",
    "Please upload your solved notebook to Moodle (under Milestone 2 Submission)adding your SCIPER number in title, example: m2-lernnavi-456392.ipynb\n",
    "\n",
    "\n",
    "## Brief overview of Lernnavi\n",
    "[Lernnavi](https://www.lernnavi.ch) is an instrument for promoting part of the basic technical study skills in German and mathematics.\n",
    "\n",
    "\n",
    "For the guided part of the exploration we will focus on the three main tables:\n",
    "* *users*: demographic information of users.\n",
    "* *events*: events done by the users in the platform.\n",
    "* *transactions*: question and answer solved by user.\n",
    "\n",
    "### Users\n",
    "* user_id: unique identifier of user in database.\n",
    "* gender: only three values: M male, F female or missing (star). \n",
    "* canton: swiss canton.\n",
    "* class_level: school year in swiss system.\n",
    "* study: boolean variable. True if the student participated in the study.\n",
    "* class_id: identifier of student’s class (only for the students in the experiment)\n",
    "\n",
    "\n",
    "### Events\n",
    "* event_id: unique identifier of event in database.\n",
    "* user_id: user who peformed the event.\n",
    "* event_date: timestamp of event.\n",
    "* category: classification of action (task, general, statistics, etc).\n",
    "* action: type of action performed.\n",
    "* event_type: whether the students viewed or clicked in the event.\n",
    "* transaction_token: used to link to transactions table.\n",
    "* tracking_data: optional content associated to this event (e.g., the new points mastered for a topic).\n",
    "* session_id: session during which the event took place.\n",
    "* topic_id: the topics represent the taxonomy of categories shown in the Deutsch and Math dashboard. See topics_translated table.\n",
    "* session_closed: whether the session has been finished (1: finished; 0: not finished).\n",
    "* session_type: whether the session is a learn or level check (1: learn; 2: level check).\n",
    "* session_accepted: whether the user finally accepted the result of the session (1: accepted; 0: refused).\n",
    "\n",
    "### Transactions\n",
    "* transaction_id: unique identifier of transaction in database.\n",
    "* transaction_token: used to link to events table.\n",
    "* user_id: user who performed the transaction.\n",
    "* document_id: document that was answered in transaction.\n",
    "* document_version: version of document that was answered.\n",
    "* evaluation: whether the user answered correctly or not. It is possible that it was only partially right. \n",
    "* input: answer the user gave.\n",
    "* start_time: timestamp of when the user started answering.\n",
    "* commit_time: timestamp of when the user submitted the answer.\n",
    "* user_agent: the browser that the user used.\n",
    "* solution: solution to question.\n",
    "* type: type of question that was answered. \n",
    "* session_id: session during which the event took place.\n",
    "* topic_id: the topics represent the taxonomy of categories shown in the Deutsch and Math dashboard. See topics_translated table.\n",
    "* session_closed: whether the session has been finished (1: finished; 0: not finished).\n",
    "* session_type: whether the session is a learn or level check (1: learn; 2: level check).\n",
    "* session_accepted: whether the user finally accepted the result of the session (1: accepted; 0: refused).\n",
    "* challenge: (boolean) whether the transaction was part of a challenge or not. Professors can create challenges containing different documents\n",
    "* challenge_id: unique identifier of challenges. The same challenge can be done by multiple students. The pre-test and post-test in the study were designed like challenges.\n",
    "* challenge_order: within the challenge, the order of the questions. The order matters because sometimes the questions were adapted depending on the student’s knowledge.\n",
    "* challenge_name: name given to the challenges. \n",
    "\n",
    "## Useful Metadata Files\n",
    "* [Data description](https://docs.google.com/document/d/1NPFNwi79JddrxZM-CpltH5nHro5btHRSNnYcAGj7Y0A/edit?usp=sharing)\n"
   ]
  },
  {
   "cell_type": "code",
   "execution_count": 7,
   "id": "2b10fd14-a60b-4de9-b217-bbaf68dac01c",
   "metadata": {
    "id": "2b10fd14-a60b-4de9-b217-bbaf68dac01c"
   },
   "outputs": [],
   "source": [
    "# Import the tables of the data set as dataframes.\n",
    "import numpy as np\n",
    "import pandas as pd\n",
    "import matplotlib.pyplot as plt\n",
    "\n",
    "DATA_DIR = './../../data/Lernnavi' #You many change the directory\n",
    "\n",
    "users = pd.read_csv('{}/users.csv.gz'.format(DATA_DIR))\n",
    "events = pd.read_csv('{}/events.csv.gz'.format(DATA_DIR))\n",
    "transactions = pd.read_csv('{}/transactions.csv.gz'.format(DATA_DIR))"
   ]
  },
  {
   "cell_type": "markdown",
   "id": "75b4f5fc-4526-4c00-8045-393cd36a2de6",
   "metadata": {
    "id": "75b4f5fc-4526-4c00-8045-393cd36a2de6"
   },
   "source": [
    "## Task 1: Simple Statistics\n",
    "\n",
    "In this task you are asked to do a first coarse exploration of the data set, using simple statistics and visualizations."
   ]
  },
  {
   "cell_type": "markdown",
   "id": "811d42c0-6f94-436e-b2da-232363fedace",
   "metadata": {
    "id": "811d42c0-6f94-436e-b2da-232363fedace"
   },
   "source": [
    "#### a) How many distinct participants do we have in the data set?\n"
   ]
  },
  {
   "cell_type": "code",
   "execution_count": 16,
   "id": "3935e6ea-982b-4d88-81c1-406f6d8040e8",
   "metadata": {
    "id": "3935e6ea-982b-4d88-81c1-406f6d8040e8"
   },
   "outputs": [
    {
     "name": "stdout",
     "output_type": "stream",
     "text": [
      "Number of distinct participants =  30929\n"
     ]
    }
   ],
   "source": [
    "## Your code goes here\n",
    "\n",
    "\n",
    "print(\"Number of distinct participants = \",len(users.user_id.unique()))"
   ]
  },
  {
   "cell_type": "markdown",
   "id": "afa67951-aed8-4709-a935-9918d80ede84",
   "metadata": {
    "id": "afa67951-aed8-4709-a935-9918d80ede84"
   },
   "source": [
    "#### b) How many transactions were done per user? Please provide a visualization and discuss the distribution."
   ]
  },
  {
   "cell_type": "code",
   "execution_count": 45,
   "id": "adefdeef-23d3-4feb-9c6f-6a3dd441acf2",
   "metadata": {
    "id": "adefdeef-23d3-4feb-9c6f-6a3dd441acf2"
   },
   "outputs": [
    {
     "data": {
      "image/png": "[encoded data removed]",
      "text/plain": [
       "<Figure size 640x480 with 1 Axes>"
      ]
     },
     "metadata": {},
     "output_type": "display_data"
    }
   ],
   "source": [
    "# Your code goes here\n",
    "\n",
    "transactions_per_user = transactions.groupby(\"user_id\")[\"transaction_id\"].count()\n",
    "transactions_per_user.hist(bins = 500)\n",
    "\n",
    "plt.xlim(0,1000)\n",
    "plt.xlabel(\"Transactions\")\n",
    "plt.ylabel(\"Count\")\n",
    "plt.title(\"Distribution of transactions per user\")\n",
    "plt.show()"
   ]
  },
  {
   "cell_type": "markdown",
   "id": "zkDaH4M_a3vR",
   "metadata": {
    "id": "zkDaH4M_a3vR"
   },
   "source": [
    "*Your discussion/interpretation goes here*\n"
   ]
  },
  {
   "cell_type": "markdown",
   "id": "b14fea28-8507-497d-9990-9eb2fefd18c0",
   "metadata": {
    "id": "b14fea28-8507-497d-9990-9eb2fefd18c0"
   },
   "source": [
    "#### c) Which are the 10 most popular event actions? Please provide a visualization of the frequency of the top 10 event actions.\n",
    "\n",
    "Hint: See actions in table events."
   ]
  },
  {
   "cell_type": "code",
   "execution_count": 63,
   "id": "e991ecba",
   "metadata": {
    "id": "e991ecba"
   },
   "outputs": [
    {
     "data": {
      "image/png": "[encoded data removed]",
      "text/plain": [
       "<Figure size 640x480 with 1 Axes>"
      ]
     },
     "metadata": {},
     "output_type": "display_data"
    }
   ],
   "source": [
    "# Your code goes here\n",
    "\n",
    "top_event_actions = events.groupby([\"action\"])[\"event_id\"].count().nlargest(10)\n",
    "\n",
    "plt.bar(top_event_actions.index, top_event_actions.values)\n",
    "plt.xticks(rotation = 90)\n",
    "plt.title(\"Frequency of the top 10 most popular event actions\")\n",
    "plt.show()\n",
    "\n"
   ]
  },
  {
   "attachments": {},
   "cell_type": "markdown",
   "id": "0e7818a8-e4bc-499c-8683-28b7045e59a2",
   "metadata": {
    "id": "0e7818a8-e4bc-499c-8683-28b7045e59a2"
   },
   "source": [
    "PAGE_VISIT: Most popular event action since it is a basic and essential action to perform any sort of activity within the platform. \n",
    "\n",
    "REVIEW_TASK : Gets used mutliple times within an excercise suggesting that users either tend to get stuck or are encourage to review their performance before moving onto the next exercise\n",
    "\n",
    "SUBMIT_ANSWER: Reflects the number of submissiin and attempts made by user, which is a lot. This signfies that the users are completing the exercises\n",
    "\n",
    "NAV_DASHBOARD: High frequency shows the lateral usage i.e. usage of different elements provided on the platform\n"
   ]
  },
  {
   "cell_type": "markdown",
   "id": "55dd2ced-e567-4b23-8795-cce5132cfdad",
   "metadata": {
    "id": "55dd2ced-e567-4b23-8795-cce5132cfdad"
   },
   "source": [
    "## Task 2: Static Analysis\n",
    "\n",
    "In this second task, you will do a univariate an multivariate exploration of some aggregated features."
   ]
  },
  {
   "cell_type": "markdown",
   "id": "c6278746-ebab-45e7-8312-36f6cc1d4e36",
   "metadata": {
    "id": "c6278746-ebab-45e7-8312-36f6cc1d4e36"
   },
   "source": [
    "#### a) Build a data frame containing one row per user:\n",
    "\n",
    "``[user_id, gender, num_events, num_questions, percentage_correct, num_reading]``\n",
    "\n",
    "\n",
    "The features are defined as follows:\n",
    "\n",
    "- **num_questions**: total number of questions the student answered (hint: action event = submit answer)\n",
    "\n",
    "- **num_events**: total number of events of the student (hint: in events table)  \n",
    "\n",
    "- **percentage_correct**: number of correct answers/total number of answers (hint: evaluation = correct). If desired, you may assign a weight of 0.5 to partially correct answers. \n",
    "\n",
    "- **num_reading**: total number of theory reading events  (hint: action event = go to theory)"
   ]
  },
  {
   "cell_type": "code",
   "execution_count": 87,
   "id": "29f99c75",
   "metadata": {
    "id": "29f99c75"
   },
   "outputs": [
    {
     "data": {
      "text/html": [
       "<div>\n",
       "<style scoped>\n",
       "    .dataframe tbody tr th:only-of-type {\n",
       "        vertical-align: middle;\n",
       "    }\n",
       "\n",
       "    .dataframe tbody tr th {\n",
       "        vertical-align: top;\n",
       "    }\n",
       "\n",
       "    .dataframe thead th {\n",
       "        text-align: right;\n",
       "    }\n",
       "</style>\n",
       "<table border=\"1\" class=\"dataframe\">\n",
       "  <thead>\n",
       "    <tr style=\"text-align: right;\">\n",
       "      <th></th>\n",
       "      <th>num_reading</th>\n",
       "    </tr>\n",
       "    <tr>\n",
       "      <th>user_id</th>\n",
       "      <th></th>\n",
       "    </tr>\n",
       "  </thead>\n",
       "  <tbody>\n",
       "    <tr>\n",
       "      <th>387604</th>\n",
       "      <td>677</td>\n",
       "    </tr>\n",
       "    <tr>\n",
       "      <th>387605</th>\n",
       "      <td>35</td>\n",
       "    </tr>\n",
       "    <tr>\n",
       "      <th>387608</th>\n",
       "      <td>58</td>\n",
       "    </tr>\n",
       "    <tr>\n",
       "      <th>387613</th>\n",
       "      <td>7</td>\n",
       "    </tr>\n",
       "    <tr>\n",
       "      <th>387615</th>\n",
       "      <td>18</td>\n",
       "    </tr>\n",
       "    <tr>\n",
       "      <th>...</th>\n",
       "      <td>...</td>\n",
       "    </tr>\n",
       "    <tr>\n",
       "      <th>431999</th>\n",
       "      <td>0</td>\n",
       "    </tr>\n",
       "    <tr>\n",
       "      <th>432001</th>\n",
       "      <td>0</td>\n",
       "    </tr>\n",
       "    <tr>\n",
       "      <th>432014</th>\n",
       "      <td>1</td>\n",
       "    </tr>\n",
       "    <tr>\n",
       "      <th>432016</th>\n",
       "      <td>0</td>\n",
       "    </tr>\n",
       "    <tr>\n",
       "      <th>432020</th>\n",
       "      <td>6</td>\n",
       "    </tr>\n",
       "  </tbody>\n",
       "</table>\n",
       "<p>22470 rows × 1 columns</p>\n",
       "</div>"
      ],
      "text/plain": [
       "         num_reading\n",
       "user_id             \n",
       "387604           677\n",
       "387605            35\n",
       "387608            58\n",
       "387613             7\n",
       "387615            18\n",
       "...              ...\n",
       "431999             0\n",
       "432001             0\n",
       "432014             1\n",
       "432016             0\n",
       "432020             6\n",
       "\n",
       "[22470 rows x 1 columns]"
      ]
     },
     "execution_count": 87,
     "metadata": {},
     "output_type": "execute_result"
    }
   ],
   "source": [
    "# Your code for building the data frame here\n",
    "def count_cat1(series):\n",
    "    return (series == \"SUBMIT_ANSWER\").sum()\n",
    "def count_cat2(series):\n",
    "    return (series == \"GO_TO_THEORY\").sum()\n",
    "\n",
    "num_questions = events.groupby(\"user_id\")[\"action\"].apply(count_cat1).reset_index(name='num_question').set_index(\"user_id\")\n",
    "num_events = events.groupby(\"user_id\")[\"event_type\"].count()\n",
    "num_reading = events.groupby(\"user_id\")[\"action\"].apply(count_cat2).reset_index(name='num_reading').set_index(\"user_id\")\n",
    "\n",
    "dict = {\"WRONG\": 0, \"PARTIAL\": 0.5, \"CORRECT\": 1, np.NaN:np.NAN}\n",
    "\n",
    "transactions[\"score\"] = transactions[\"evaluation\"].apply(lambda x: dict[x])\n",
    "\n",
    "percentage_correct = transactions.groupby(\"user_id\")[\"score\"].mean()*100\n",
    "\n",
    "num_reading"
   ]
  },
  {
   "cell_type": "code",
   "execution_count": 89,
   "id": "9fa6390e",
   "metadata": {},
   "outputs": [
    {
     "data": {
      "text/html": [
       "<div>\n",
       "<style scoped>\n",
       "    .dataframe tbody tr th:only-of-type {\n",
       "        vertical-align: middle;\n",
       "    }\n",
       "\n",
       "    .dataframe tbody tr th {\n",
       "        vertical-align: top;\n",
       "    }\n",
       "\n",
       "    .dataframe thead th {\n",
       "        text-align: right;\n",
       "    }\n",
       "</style>\n",
       "<table border=\"1\" class=\"dataframe\">\n",
       "  <thead>\n",
       "    <tr style=\"text-align: right;\">\n",
       "      <th></th>\n",
       "      <th>user_id</th>\n",
       "      <th>gender</th>\n",
       "      <th>canton</th>\n",
       "      <th>class_level</th>\n",
       "      <th>study</th>\n",
       "      <th>class_id</th>\n",
       "    </tr>\n",
       "  </thead>\n",
       "  <tbody>\n",
       "    <tr>\n",
       "      <th>0</th>\n",
       "      <td>387604</td>\n",
       "      <td>NaN</td>\n",
       "      <td>NaN</td>\n",
       "      <td>NaN</td>\n",
       "      <td>False</td>\n",
       "      <td>NaN</td>\n",
       "    </tr>\n",
       "    <tr>\n",
       "      <th>1</th>\n",
       "      <td>387605</td>\n",
       "      <td>NaN</td>\n",
       "      <td>NaN</td>\n",
       "      <td>NaN</td>\n",
       "      <td>False</td>\n",
       "      <td>NaN</td>\n",
       "    </tr>\n",
       "    <tr>\n",
       "      <th>2</th>\n",
       "      <td>387608</td>\n",
       "      <td>NaN</td>\n",
       "      <td>NaN</td>\n",
       "      <td>NaN</td>\n",
       "      <td>True</td>\n",
       "      <td>9Q2M7</td>\n",
       "    </tr>\n",
       "    <tr>\n",
       "      <th>3</th>\n",
       "      <td>387613</td>\n",
       "      <td>NaN</td>\n",
       "      <td>NaN</td>\n",
       "      <td>NaN</td>\n",
       "      <td>False</td>\n",
       "      <td>NaN</td>\n",
       "    </tr>\n",
       "    <tr>\n",
       "      <th>4</th>\n",
       "      <td>387615</td>\n",
       "      <td>MALE</td>\n",
       "      <td>SG</td>\n",
       "      <td>Gymnasium - 3. Jahr</td>\n",
       "      <td>False</td>\n",
       "      <td>NaN</td>\n",
       "    </tr>\n",
       "    <tr>\n",
       "      <th>...</th>\n",
       "      <td>...</td>\n",
       "      <td>...</td>\n",
       "      <td>...</td>\n",
       "      <td>...</td>\n",
       "      <td>...</td>\n",
       "      <td>...</td>\n",
       "    </tr>\n",
       "    <tr>\n",
       "      <th>30924</th>\n",
       "      <td>432018</td>\n",
       "      <td>MALE</td>\n",
       "      <td>SH</td>\n",
       "      <td>Gymnasium - 1. Jahr</td>\n",
       "      <td>False</td>\n",
       "      <td>NaN</td>\n",
       "    </tr>\n",
       "    <tr>\n",
       "      <th>30925</th>\n",
       "      <td>432020</td>\n",
       "      <td>MALE</td>\n",
       "      <td>BS</td>\n",
       "      <td>Gymnasium - 2. Jahr</td>\n",
       "      <td>False</td>\n",
       "      <td>NaN</td>\n",
       "    </tr>\n",
       "    <tr>\n",
       "      <th>30926</th>\n",
       "      <td>432021</td>\n",
       "      <td>FEMALE</td>\n",
       "      <td>BS</td>\n",
       "      <td>Gymnasium - 1. Jahr</td>\n",
       "      <td>False</td>\n",
       "      <td>NaN</td>\n",
       "    </tr>\n",
       "    <tr>\n",
       "      <th>30927</th>\n",
       "      <td>432022</td>\n",
       "      <td>FEMALE</td>\n",
       "      <td>AR</td>\n",
       "      <td>andere</td>\n",
       "      <td>False</td>\n",
       "      <td>NaN</td>\n",
       "    </tr>\n",
       "    <tr>\n",
       "      <th>30928</th>\n",
       "      <td>432023</td>\n",
       "      <td>MALE</td>\n",
       "      <td>BS</td>\n",
       "      <td>Gymnasium - 2. Jahr</td>\n",
       "      <td>False</td>\n",
       "      <td>NaN</td>\n",
       "    </tr>\n",
       "  </tbody>\n",
       "</table>\n",
       "<p>30929 rows × 6 columns</p>\n",
       "</div>"
      ],
      "text/plain": [
       "       user_id  gender canton          class_level  study class_id\n",
       "0       387604     NaN    NaN                  NaN  False      NaN\n",
       "1       387605     NaN    NaN                  NaN  False      NaN\n",
       "2       387608     NaN    NaN                  NaN   True    9Q2M7\n",
       "3       387613     NaN    NaN                  NaN  False      NaN\n",
       "4       387615    MALE     SG  Gymnasium - 3. Jahr  False      NaN\n",
       "...        ...     ...    ...                  ...    ...      ...\n",
       "30924   432018    MALE     SH  Gymnasium - 1. Jahr  False      NaN\n",
       "30925   432020    MALE     BS  Gymnasium - 2. Jahr  False      NaN\n",
       "30926   432021  FEMALE     BS  Gymnasium - 1. Jahr  False      NaN\n",
       "30927   432022  FEMALE     AR               andere  False      NaN\n",
       "30928   432023    MALE     BS  Gymnasium - 2. Jahr  False      NaN\n",
       "\n",
       "[30929 rows x 6 columns]"
      ]
     },
     "execution_count": 89,
     "metadata": {},
     "output_type": "execute_result"
    }
   ],
   "source": [
    "# pd.merge(users, df2, left_index=True, right_index=True)\n",
    "users"
   ]
  },
  {
   "cell_type": "markdown",
   "id": "c7648e7d-45ff-40ef-8fc9-ccfba1ba7229",
   "metadata": {
    "id": "c7648e7d-45ff-40ef-8fc9-ccfba1ba7229"
   },
   "source": [
    "b) Perform a univariate analysis (including descriptive statistics and visualizations) for the five features (gender, num_events, num_questions, percentage_correct, num_reading) of your dataframe. Please check the lecture slides regarding information on how to perform a univariate analysis for categorical and numerical features. Discuss your results: how are the features distributed? Are there any anomalities?"
   ]
  },
  {
   "cell_type": "code",
   "execution_count": null,
   "id": "e1d63e93-976a-4585-9675-8b0c3c7661d9",
   "metadata": {
    "id": "e1d63e93-976a-4585-9675-8b0c3c7661d9"
   },
   "outputs": [],
   "source": [
    "# Your code for univariate analysis here"
   ]
  },
  {
   "cell_type": "markdown",
   "id": "da9e7a90-47b5-4c5c-8d3f-10e8c8078009",
   "metadata": {
    "id": "da9e7a90-47b5-4c5c-8d3f-10e8c8078009"
   },
   "source": [
    "*Your discussion/interpretation goes here*"
   ]
  },
  {
   "cell_type": "markdown",
   "id": "e5d52cd8-9927-401b-a3c3-a4ab2e46b445",
   "metadata": {
    "id": "e5d52cd8-9927-401b-a3c3-a4ab2e46b445"
   },
   "source": [
    "c) Come up with two additional features on your own and add them to the dataframe. Please provide an explanation/description of your features as well as an argument/hypothesis of why you think these features are interesting to explore."
   ]
  },
  {
   "cell_type": "code",
   "execution_count": null,
   "id": "0b374606-91f5-45b0-bb31-03d494fa5c69",
   "metadata": {
    "id": "0b374606-91f5-45b0-bb31-03d494fa5c69"
   },
   "outputs": [],
   "source": [
    "# Your code for computing the features and adding them to the df goes here"
   ]
  },
  {
   "cell_type": "markdown",
   "id": "6ae3bd87-8ca4-47a2-afc5-604e6ca53621",
   "metadata": {
    "id": "6ae3bd87-8ca4-47a2-afc5-604e6ca53621"
   },
   "source": [
    "*Your feature descriptions and arguments/hypotheses go here*"
   ]
  },
  {
   "cell_type": "markdown",
   "id": "be9b49ce-5fb6-4b95-9b64-8a6648e42474",
   "metadata": {
    "id": "be9b49ce-5fb6-4b95-9b64-8a6648e42474"
   },
   "source": [
    "d) Perform a univariate analysis of your features (including descriptive statistics and visualization). What can you observe? Do the results confirm your hypotheses?"
   ]
  },
  {
   "cell_type": "code",
   "execution_count": null,
   "id": "bf5136a1-4715-4bd6-a94a-1998ffb2dcc7",
   "metadata": {
    "id": "bf5136a1-4715-4bd6-a94a-1998ffb2dcc7"
   },
   "outputs": [],
   "source": [
    "# Your code for univariate analysis goes here"
   ]
  },
  {
   "cell_type": "markdown",
   "id": "791e6635-e2ef-4790-b585-a8907123bed8",
   "metadata": {
    "id": "791e6635-e2ef-4790-b585-a8907123bed8"
   },
   "source": [
    "*Your discussion/interpretation goes here*"
   ]
  },
  {
   "cell_type": "markdown",
   "id": "1596debf-793b-4d94-a0eb-4fc42a1f962d",
   "metadata": {
    "id": "1596debf-793b-4d94-a0eb-4fc42a1f962d"
   },
   "source": [
    "e) Perform a multivariate analysis for two pairs of features of your choice. Please provide a metric and a visualization for both pairs. Please discuss: why did you choose these two pairs? What was your hypothesis? Do the results confirm your hypothesis?"
   ]
  },
  {
   "cell_type": "code",
   "execution_count": null,
   "id": "9b5947ca-1c39-4aec-8fa9-22dba757ef27",
   "metadata": {
    "id": "9b5947ca-1c39-4aec-8fa9-22dba757ef27"
   },
   "outputs": [],
   "source": [
    "# Your code for multivariate analysis goes here"
   ]
  },
  {
   "cell_type": "markdown",
   "id": "9c9e9e56-f589-49d4-8cd4-07855bc6c5c0",
   "metadata": {
    "id": "9c9e9e56-f589-49d4-8cd4-07855bc6c5c0"
   },
   "source": [
    "*Your discussion/interpretation goes here*"
   ]
  },
  {
   "cell_type": "markdown",
   "id": "62ef2063-f2b2-4a0b-92a6-1e03e9e6e548",
   "metadata": {
    "id": "62ef2063-f2b2-4a0b-92a6-1e03e9e6e548"
   },
   "source": [
    "# Task 3: Time-Series Analysis\n",
    "\n",
    "In the last task, you will perform a time-series analysis."
   ]
  },
  {
   "cell_type": "markdown",
   "id": "1a986033-693c-4db0-8b27-c638b4bf6248",
   "metadata": {
    "id": "1a986033-693c-4db0-8b27-c638b4bf6248"
   },
   "source": [
    "\n",
    "#### a) Build a data frame containing one row per user per week:\n",
    "\n",
    "``[user_id, week, num_events, num_questions, percentage_correct, num_reading]``\n",
    "\n",
    "\n",
    "The features are defined as follows:\n",
    "\n",
    "- **num_questions**: total number of questions the student answered **per week**(hint: action event = submit answer).\n",
    "\n",
    "- **num_events**: total number of events of the student per week.\n",
    "\n",
    "- **percentage_correct**: number of correct answers/total number of answers  **per week** (hint: evaluation = correct). If desired, you may assign a weight of 0.5 to partially correct answers.\n",
    "\n",
    "- **num_reading**: total number of theory reading events **per week** (hint: action event = go to theory).\n",
    "\n",
    "Where week 0 is the first week the specific user solved a task in the platform, i.e., the user's earliest entry in the transactions table.\n",
    "\n",
    "Hint: You may extract the week of the year (dt.week) from the timestamps.\n",
    "\n",
    "Hint 2: Be mindful that week 1 in 2022 is a different week from week 1 in 2023."
   ]
  },
  {
   "cell_type": "markdown",
   "id": "549820bd-d886-433f-8055-52f40e3381ad",
   "metadata": {
    "id": "549820bd-d886-433f-8055-52f40e3381ad"
   },
   "source": [
    "You can limit the number of weeks to 10, i.e. for each user we just look at the first 10 weeks of data.\n",
    "You may change and justify your choice for the number of weeks."
   ]
  },
  {
   "cell_type": "code",
   "execution_count": null,
   "id": "a92e54ac-3990-4d97-bd57-75c81534b36d",
   "metadata": {
    "id": "a92e54ac-3990-4d97-bd57-75c81534b36d"
   },
   "outputs": [],
   "source": [
    "# Your code for building the dataframe goes here"
   ]
  },
  {
   "cell_type": "markdown",
   "id": "1d045819-a60e-4bdf-bdab-f09fa53c823a",
   "metadata": {
    "id": "1d045819-a60e-4bdf-bdab-f09fa53c823a"
   },
   "source": [
    "#### b) Select two features and analyze their behavior over time. Please provide a hypothesis and visualization for both features. For ideas on how to perform a time series exploration, please check the lecture slides and notebook. Discuss your results: what do you observe? Do the results confirm your hypotheses?"
   ]
  },
  {
   "cell_type": "markdown",
   "id": "3ccb6bf8-2d6b-4a53-a4bb-6784c671fec4",
   "metadata": {
    "id": "3ccb6bf8-2d6b-4a53-a4bb-6784c671fec4"
   },
   "source": [
    "*Your discussion goes here*"
   ]
  },
  {
   "cell_type": "markdown",
   "id": "_s7rWpaLfZGt",
   "metadata": {
    "id": "_s7rWpaLfZGt"
   },
   "source": [
    "# Task 4: Creative extension \n",
    "\n",
    "Please provide **one** new hypothesis you would like to explore with the data and provide a visualization for it. Discuss your results: what do you observe? Do the results confirm your hypotheses?\n",
    "\n"
   ]
  },
  {
   "cell_type": "code",
   "execution_count": null,
   "id": "3-Wtdj4KfdY_",
   "metadata": {
    "id": "3-Wtdj4KfdY_"
   },
   "outputs": [],
   "source": [
    "# Your creative visualization here"
   ]
  },
  {
   "cell_type": "markdown",
   "id": "yTT8SklBgGxN",
   "metadata": {
    "id": "yTT8SklBgGxN"
   },
   "source": [
    "*Your discussion goes here*"
   ]
  }
 ],
 "metadata": {
  "colab": {
   "collapsed_sections": [],
   "name": "m2-lernnavi-sciper.ipynb",
   "provenance": []
  },
  "kernelspec": {
   "display_name": "mlbd",
   "language": "python",
   "name": "python3"
  },
  "language_info": {
   "codemirror_mode": {
    "name": "ipython",
    "version": 3
   },
   "file_extension": ".py",
   "mimetype": "text/x-python",
   "name": "python",
   "nbconvert_exporter": "python",
   "pygments_lexer": "ipython3",
   "version": "3.9.7"
  },
  "vscode": {
   "interpreter": {
    "hash": "4dcd074ebfc1f6948b798506d51e720a44bacd11255430577518df2686c2159b"
   }
  }
 },
 "nbformat": 4,
 "nbformat_minor": 5
}
