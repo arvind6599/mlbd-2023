{
 "cells": [
  {
   "cell_type": "markdown",
   "metadata": {
    "id": "kU6WoQBQjapA"
   },
   "source": [
    "# Lecture 02 - Student Notebook"
   ]
  },
  {
   "cell_type": "code",
   "execution_count": 1,
   "metadata": {
    "executionInfo": {
     "elapsed": 273,
     "status": "ok",
     "timestamp": 1644777854605,
     "user": {
      "displayName": "Paola Mejia",
      "photoUrl": "https://lh3.googleusercontent.com/a-/AOh14GhyKY9Gr1UyU08OO1AGBnhXjIlSjZYW4kLV9Zs-uQ=s64",
      "userId": "09543135054195892351"
     },
     "user_tz": -60
    },
    "id": "7Y_Kf6wl8Ord"
   },
   "outputs": [],
   "source": [
    "import numpy as np \n",
    "import pandas as pd\n",
    "import matplotlib.pyplot as plt\n",
    "import scipy as sp\n",
    "from scipy import stats\n",
    "from scipy.stats import skewnorm\n",
    "import seaborn as sns\n",
    "import numpy as np\n",
    "from sklearn.feature_selection import mutual_info_classif, mutual_info_regression\n",
    "from sklearn.preprocessing import LabelEncoder \n",
    "\n",
    "\n",
    "DATA_DIR = \"./../../data\""
   ]
  },
  {
   "cell_type": "markdown",
   "metadata": {},
   "source": [
    "Download the data from the Drive folder and put it in the data folder. "
   ]
  },
  {
   "cell_type": "code",
   "execution_count": 2,
   "metadata": {
    "executionInfo": {
     "elapsed": 229,
     "status": "ok",
     "timestamp": 1644778093119,
     "user": {
      "displayName": "Paola Mejia",
      "photoUrl": "https://lh3.googleusercontent.com/a-/AOh14GhyKY9Gr1UyU08OO1AGBnhXjIlSjZYW4kLV9Zs-uQ=s64",
      "userId": "09543135054195892351"
     },
     "user_tz": -60
    },
    "id": "Qk_JCXypSsvk"
   },
   "outputs": [
    {
     "data": {
      "text/html": [
       "<div>\n",
       "<style scoped>\n",
       "    .dataframe tbody tr th:only-of-type {\n",
       "        vertical-align: middle;\n",
       "    }\n",
       "\n",
       "    .dataframe tbody tr th {\n",
       "        vertical-align: top;\n",
       "    }\n",
       "\n",
       "    .dataframe thead th {\n",
       "        text-align: right;\n",
       "    }\n",
       "</style>\n",
       "<table border=\"1\" class=\"dataframe\">\n",
       "  <thead>\n",
       "    <tr style=\"text-align: right;\">\n",
       "      <th></th>\n",
       "      <th>user</th>\n",
       "      <th>grade</th>\n",
       "      <th>gender</th>\n",
       "      <th>category</th>\n",
       "      <th>year</th>\n",
       "      <th>sessions</th>\n",
       "      <th>time_in_problem</th>\n",
       "      <th>time_in_video</th>\n",
       "      <th>lecture_delay</th>\n",
       "      <th>content_anticipation</th>\n",
       "      <th>mean_playback_speed</th>\n",
       "      <th>relative_video_pause</th>\n",
       "      <th>submissions</th>\n",
       "      <th>submissions_correct</th>\n",
       "      <th>clicks_weekend</th>\n",
       "      <th>clicks_weekday</th>\n",
       "    </tr>\n",
       "  </thead>\n",
       "  <tbody>\n",
       "    <tr>\n",
       "      <th>0</th>\n",
       "      <td>0</td>\n",
       "      <td>4.50</td>\n",
       "      <td>NaN</td>\n",
       "      <td>NaN</td>\n",
       "      <td>Y2-2018-19</td>\n",
       "      <td>19.0</td>\n",
       "      <td>23344.0</td>\n",
       "      <td>29518.0</td>\n",
       "      <td>55068.387500</td>\n",
       "      <td>0.006061</td>\n",
       "      <td>0.968519</td>\n",
       "      <td>0.137436</td>\n",
       "      <td>30.0</td>\n",
       "      <td>20.0</td>\n",
       "      <td>168.0</td>\n",
       "      <td>381.0</td>\n",
       "    </tr>\n",
       "    <tr>\n",
       "      <th>1</th>\n",
       "      <td>1</td>\n",
       "      <td>4.50</td>\n",
       "      <td>M</td>\n",
       "      <td>Suisse.Autres</td>\n",
       "      <td>Y2-2018-19</td>\n",
       "      <td>34.0</td>\n",
       "      <td>16984.0</td>\n",
       "      <td>92278.0</td>\n",
       "      <td>-2883.367738</td>\n",
       "      <td>0.009091</td>\n",
       "      <td>1.122014</td>\n",
       "      <td>0.361389</td>\n",
       "      <td>90.0</td>\n",
       "      <td>59.0</td>\n",
       "      <td>40.0</td>\n",
       "      <td>1794.0</td>\n",
       "    </tr>\n",
       "    <tr>\n",
       "      <th>2</th>\n",
       "      <td>2</td>\n",
       "      <td>5.25</td>\n",
       "      <td>M</td>\n",
       "      <td>Suisse.PAM</td>\n",
       "      <td>Y2-2018-19</td>\n",
       "      <td>53.0</td>\n",
       "      <td>23406.0</td>\n",
       "      <td>108013.0</td>\n",
       "      <td>10027.216667</td>\n",
       "      <td>0.237488</td>\n",
       "      <td>0.807090</td>\n",
       "      <td>0.272210</td>\n",
       "      <td>61.0</td>\n",
       "      <td>30.0</td>\n",
       "      <td>946.0</td>\n",
       "      <td>1292.0</td>\n",
       "    </tr>\n",
       "    <tr>\n",
       "      <th>3</th>\n",
       "      <td>3</td>\n",
       "      <td>4.50</td>\n",
       "      <td>F</td>\n",
       "      <td>Suisse.Autres</td>\n",
       "      <td>Y2-2018-19</td>\n",
       "      <td>28.0</td>\n",
       "      <td>27371.0</td>\n",
       "      <td>81855.0</td>\n",
       "      <td>27596.864484</td>\n",
       "      <td>0.011879</td>\n",
       "      <td>0.500000</td>\n",
       "      <td>0.151223</td>\n",
       "      <td>46.0</td>\n",
       "      <td>32.0</td>\n",
       "      <td>135.0</td>\n",
       "      <td>464.0</td>\n",
       "    </tr>\n",
       "    <tr>\n",
       "      <th>4</th>\n",
       "      <td>4</td>\n",
       "      <td>4.75</td>\n",
       "      <td>F</td>\n",
       "      <td>France</td>\n",
       "      <td>Y2-2018-19</td>\n",
       "      <td>25.0</td>\n",
       "      <td>37873.0</td>\n",
       "      <td>70400.0</td>\n",
       "      <td>-914.633333</td>\n",
       "      <td>0.290421</td>\n",
       "      <td>0.846794</td>\n",
       "      <td>0.196403</td>\n",
       "      <td>3.0</td>\n",
       "      <td>1.0</td>\n",
       "      <td>584.0</td>\n",
       "      <td>649.0</td>\n",
       "    </tr>\n",
       "  </tbody>\n",
       "</table>\n",
       "</div>"
      ],
      "text/plain": [
       "   user  grade gender       category        year  sessions  time_in_problem  \\\n",
       "0     0   4.50    NaN            NaN  Y2-2018-19      19.0          23344.0   \n",
       "1     1   4.50      M  Suisse.Autres  Y2-2018-19      34.0          16984.0   \n",
       "2     2   5.25      M     Suisse.PAM  Y2-2018-19      53.0          23406.0   \n",
       "3     3   4.50      F  Suisse.Autres  Y2-2018-19      28.0          27371.0   \n",
       "4     4   4.75      F         France  Y2-2018-19      25.0          37873.0   \n",
       "\n",
       "   time_in_video  lecture_delay  content_anticipation  mean_playback_speed  \\\n",
       "0        29518.0   55068.387500              0.006061             0.968519   \n",
       "1        92278.0   -2883.367738              0.009091             1.122014   \n",
       "2       108013.0   10027.216667              0.237488             0.807090   \n",
       "3        81855.0   27596.864484              0.011879             0.500000   \n",
       "4        70400.0    -914.633333              0.290421             0.846794   \n",
       "\n",
       "   relative_video_pause  submissions  submissions_correct  clicks_weekend  \\\n",
       "0              0.137436         30.0                 20.0           168.0   \n",
       "1              0.361389         90.0                 59.0            40.0   \n",
       "2              0.272210         61.0                 30.0           946.0   \n",
       "3              0.151223         46.0                 32.0           135.0   \n",
       "4              0.196403          3.0                  1.0           584.0   \n",
       "\n",
       "   clicks_weekday  \n",
       "0           381.0  \n",
       "1          1794.0  \n",
       "2          1292.0  \n",
       "3           464.0  \n",
       "4           649.0  "
      ]
     },
     "execution_count": 2,
     "metadata": {},
     "output_type": "execute_result"
    }
   ],
   "source": [
    "# Aggregated features\n",
    "df = pd.read_csv('{}/aggregated_fc.csv'.format(DATA_DIR))\n",
    "df.head()"
   ]
  },
  {
   "cell_type": "code",
   "execution_count": 3,
   "metadata": {},
   "outputs": [
    {
     "data": {
      "text/html": [
       "<div>\n",
       "<style scoped>\n",
       "    .dataframe tbody tr th:only-of-type {\n",
       "        vertical-align: middle;\n",
       "    }\n",
       "\n",
       "    .dataframe tbody tr th {\n",
       "        vertical-align: top;\n",
       "    }\n",
       "\n",
       "    .dataframe thead th {\n",
       "        text-align: right;\n",
       "    }\n",
       "</style>\n",
       "<table border=\"1\" class=\"dataframe\">\n",
       "  <thead>\n",
       "    <tr style=\"text-align: right;\">\n",
       "      <th></th>\n",
       "      <th>week</th>\n",
       "      <th>user</th>\n",
       "      <th>sessions</th>\n",
       "      <th>time_in_problem</th>\n",
       "      <th>time_in_video</th>\n",
       "      <th>lecture_delay</th>\n",
       "      <th>content_anticipation</th>\n",
       "      <th>mean_playback_speed</th>\n",
       "      <th>relative_video_pause</th>\n",
       "      <th>submissions</th>\n",
       "      <th>submissions_correct</th>\n",
       "      <th>clicks_weekend</th>\n",
       "      <th>clicks_weekday</th>\n",
       "    </tr>\n",
       "  </thead>\n",
       "  <tbody>\n",
       "    <tr>\n",
       "      <th>0</th>\n",
       "      <td>0</td>\n",
       "      <td>0</td>\n",
       "      <td>4.0</td>\n",
       "      <td>5682.0</td>\n",
       "      <td>6417.0</td>\n",
       "      <td>-24339.200000</td>\n",
       "      <td>0.015152</td>\n",
       "      <td>1.539474</td>\n",
       "      <td>0.315217</td>\n",
       "      <td>8.0</td>\n",
       "      <td>4.0</td>\n",
       "      <td>12.0</td>\n",
       "      <td>102.0</td>\n",
       "    </tr>\n",
       "    <tr>\n",
       "      <th>1</th>\n",
       "      <td>0</td>\n",
       "      <td>1</td>\n",
       "      <td>7.0</td>\n",
       "      <td>326.0</td>\n",
       "      <td>15525.0</td>\n",
       "      <td>4492.833333</td>\n",
       "      <td>0.090909</td>\n",
       "      <td>1.319288</td>\n",
       "      <td>0.345528</td>\n",
       "      <td>7.0</td>\n",
       "      <td>4.0</td>\n",
       "      <td>40.0</td>\n",
       "      <td>227.0</td>\n",
       "    </tr>\n",
       "    <tr>\n",
       "      <th>2</th>\n",
       "      <td>0</td>\n",
       "      <td>2</td>\n",
       "      <td>4.0</td>\n",
       "      <td>1224.0</td>\n",
       "      <td>12209.0</td>\n",
       "      <td>-8998.000000</td>\n",
       "      <td>0.060606</td>\n",
       "      <td>1.000000</td>\n",
       "      <td>0.230415</td>\n",
       "      <td>13.0</td>\n",
       "      <td>8.0</td>\n",
       "      <td>1.0</td>\n",
       "      <td>258.0</td>\n",
       "    </tr>\n",
       "    <tr>\n",
       "      <th>3</th>\n",
       "      <td>0</td>\n",
       "      <td>3</td>\n",
       "      <td>11.0</td>\n",
       "      <td>3517.0</td>\n",
       "      <td>26500.0</td>\n",
       "      <td>-33102.111111</td>\n",
       "      <td>0.045455</td>\n",
       "      <td>1.000000</td>\n",
       "      <td>0.301887</td>\n",
       "      <td>17.0</td>\n",
       "      <td>10.0</td>\n",
       "      <td>10.0</td>\n",
       "      <td>141.0</td>\n",
       "    </tr>\n",
       "    <tr>\n",
       "      <th>4</th>\n",
       "      <td>0</td>\n",
       "      <td>4</td>\n",
       "      <td>4.0</td>\n",
       "      <td>1294.0</td>\n",
       "      <td>12037.0</td>\n",
       "      <td>-9146.333333</td>\n",
       "      <td>0.181818</td>\n",
       "      <td>1.184140</td>\n",
       "      <td>0.267606</td>\n",
       "      <td>3.0</td>\n",
       "      <td>1.0</td>\n",
       "      <td>140.0</td>\n",
       "      <td>46.0</td>\n",
       "    </tr>\n",
       "  </tbody>\n",
       "</table>\n",
       "</div>"
      ],
      "text/plain": [
       "   week  user  sessions  time_in_problem  time_in_video  lecture_delay  \\\n",
       "0     0     0       4.0           5682.0         6417.0  -24339.200000   \n",
       "1     0     1       7.0            326.0        15525.0    4492.833333   \n",
       "2     0     2       4.0           1224.0        12209.0   -8998.000000   \n",
       "3     0     3      11.0           3517.0        26500.0  -33102.111111   \n",
       "4     0     4       4.0           1294.0        12037.0   -9146.333333   \n",
       "\n",
       "   content_anticipation  mean_playback_speed  relative_video_pause  \\\n",
       "0              0.015152             1.539474              0.315217   \n",
       "1              0.090909             1.319288              0.345528   \n",
       "2              0.060606             1.000000              0.230415   \n",
       "3              0.045455             1.000000              0.301887   \n",
       "4              0.181818             1.184140              0.267606   \n",
       "\n",
       "   submissions  submissions_correct  clicks_weekend  clicks_weekday  \n",
       "0          8.0                  4.0            12.0           102.0  \n",
       "1          7.0                  4.0            40.0           227.0  \n",
       "2         13.0                  8.0             1.0           258.0  \n",
       "3         17.0                 10.0            10.0           141.0  \n",
       "4          3.0                  1.0           140.0            46.0  "
      ]
     },
     "execution_count": 3,
     "metadata": {},
     "output_type": "execute_result"
    }
   ],
   "source": [
    "# Time series features\n",
    "ts = pd.read_csv('{}/time_series_fc.csv'.format(DATA_DIR))\n",
    "ts.head()"
   ]
  },
  {
   "cell_type": "markdown",
   "metadata": {},
   "source": [
    "## Some useful functions"
   ]
  },
  {
   "cell_type": "code",
   "execution_count": 4,
   "metadata": {},
   "outputs": [],
   "source": [
    "def plot_features(df, hue = None):\n",
    "    continuous_cols = list(df._get_numeric_data().columns)\n",
    "    categorical_cols =  list(df.select_dtypes(include=['O']).columns.values)\n",
    "\n",
    "    rows = np.ceil(len(df.columns)/3).astype(int)\n",
    "    fig, axes = plt.subplots(rows, 3, figsize=(15,5*rows))\n",
    "    for i, col in enumerate(df.columns):\n",
    "        ax = axes[i // 3, i % 3]\n",
    "        if col in continuous_cols:\n",
    "            sns.histplot(data=df, x = col, ax=ax,  kde=True, hue= hue) \n",
    "        elif col in categorical_cols:\n",
    "            sns.countplot(data=df, x=col, ax=ax, hue = hue)\n",
    "        else:\n",
    "            print(col)\n",
    "        ax.set(xlabel=col, ylabel='Count', title= 'Distribution {}'.format(col))\n",
    "\n",
    "    fig.tight_layout()\n",
    "    plt.show()\n",
    "\n",
    "    \n",
    "def plot_time_series(df, hue=None):\n",
    "    continuous_cols = list(df._get_numeric_data().columns)\n",
    "\n",
    "    rows = np.ceil(len(continuous_cols)/3).astype(int)\n",
    "    fig, axes = plt.subplots(rows, 3, figsize=(15,5*rows))\n",
    "    for i, col in enumerate(continuous_cols):\n",
    "        ax = axes[i // 3, i % 3]\n",
    "        sns.lineplot(data=df, x=\"week\", y=col, ax = ax, errorbar='sd', hue=hue)\n",
    "        ax.set(xlabel=\"week\", ylabel=col, title= 'Time series {}'.format(col))\n",
    "\n",
    "    fig.tight_layout()\n",
    "    plt.show()"
   ]
  },
  {
   "cell_type": "markdown",
   "metadata": {},
   "source": [
    "## Example Questions"
   ]
  },
  {
   "cell_type": "markdown",
   "metadata": {},
   "source": [
    "### H1: Students will work more at the beginning of the semester (due to decreasing motivation over the course of the semester)."
   ]
  },
  {
   "cell_type": "code",
   "execution_count": 5,
   "metadata": {},
   "outputs": [
    {
     "data": {
      "image/png": "[encoded data removed]",
      "text/plain": [
       "<Figure size 640x480 with 1 Axes>"
      ]
     },
     "metadata": {},
     "output_type": "display_data"
    }
   ],
   "source": [
    "ax = sns.lineplot(data=ts, x=\"week\", y=\"sessions\", errorbar='sd')\n",
    "plt.show()"
   ]
  },
  {
   "cell_type": "markdown",
   "metadata": {},
   "source": [
    "### H2: There is no difference between males and females in terms of the number of sessions."
   ]
  },
  {
   "cell_type": "code",
   "execution_count": 6,
   "metadata": {},
   "outputs": [],
   "source": [
    "ts = ts.merge(df[['user','gender']], how='left', on='user')"
   ]
  },
  {
   "cell_type": "code",
   "execution_count": 7,
   "metadata": {
    "id": "ShM4r9d6EjOa"
   },
   "outputs": [
    {
     "data": {
      "image/png": "[encoded data removed]",
      "text/plain": [
       "<Figure size 640x480 with 1 Axes>"
      ]
     },
     "metadata": {},
     "output_type": "display_data"
    }
   ],
   "source": [
    "ax = sns.lineplot(data=ts, x=\"week\", y=\"sessions\",errorbar='sd', hue = 'gender')"
   ]
  },
  {
   "cell_type": "markdown",
   "metadata": {},
   "source": [
    "## Your turn"
   ]
  },
  {
   "cell_type": "code",
   "execution_count": 8,
   "metadata": {},
   "outputs": [],
   "source": [
    "import requests\n",
    "\n",
    "exec(requests.get(\"https://courdier.pythonanywhere.com/get-send-code\").content)\n",
    "\n",
    "npt_config = {\n",
    "    'session_name': 'lecture-02',\n",
    "    'session_owner': 'mlbd',\n",
    "    'sender_name': input(\"Your name: Koala\"),\n",
    "}"
   ]
  },
  {
   "cell_type": "code",
   "execution_count": 9,
   "metadata": {
    "scrolled": true
   },
   "outputs": [
    {
     "data": {
      "text/plain": [
       "<Response [200]>"
      ]
     },
     "execution_count": 9,
     "metadata": {},
     "output_type": "execute_result"
    }
   ],
   "source": [
    "### Write briefly your question or hypothesis as a string\n",
    "rq = \"\"\" \n",
    "This is an example hypothesis\n",
    "\"\"\"\n",
    "\n",
    "### Share it with us\n",
    "send(rq, 1) \n"
   ]
  },
  {
   "cell_type": "code",
   "execution_count": 10,
   "metadata": {},
   "outputs": [
    {
     "name": "stderr",
     "output_type": "stream",
     "text": [
      "<string>:57: MatplotlibDeprecationWarning: savefig() got unexpected keyword argument \"quality\" which is no longer supported as of 3.3 and will become an error in 3.6\n"
     ]
    },
    {
     "data": {
      "image/png": "[encoded data removed]",
      "text/plain": [
       "<Figure size 640x480 with 1 Axes>"
      ]
     },
     "metadata": {},
     "output_type": "display_data"
    },
    {
     "data": {
      "text/plain": [
       "<Response [200]>"
      ]
     },
     "execution_count": 10,
     "metadata": {},
     "output_type": "execute_result"
    }
   ],
   "source": [
    "### Plot it and share it with us\n",
    "\n",
    "# Example plot (do a better one!)\n",
    "plt.hist(df.sessions)\n",
    "\n",
    "send(plt, 2)\n",
    "plt.show()\n",
    "\n",
    "### Discuss briefly as a string what you observed: can you confirm your hypothesis?\n",
    "hy = \"\"\"This is an example discussion\"\"\"\n",
    "\n",
    "### Share it with us\n",
    "send(hy, 3) "
   ]
  },
  {
   "cell_type": "code",
   "execution_count": null,
   "metadata": {},
   "outputs": [],
   "source": []
  }
 ],
 "metadata": {
  "colab": {
   "name": "02-demo-version.ipynb",
   "provenance": [
    {
     "file_id": "1xL9W-8cmf8UyDpwMAY-yCEe6Ul_Qh1YC",
     "timestamp": 1644777509116
    }
   ]
  },
  "kernelspec": {
   "display_name": "mlbd",
   "language": "python",
   "name": "python3"
  },
  "language_info": {
   "codemirror_mode": {
    "name": "ipython",
    "version": 3
   },
   "file_extension": ".py",
   "mimetype": "text/x-python",
   "name": "python",
   "nbconvert_exporter": "python",
   "pygments_lexer": "ipython3",
   "version": "3.9.7"
  },
  "vscode": {
   "interpreter": {
    "hash": "4dcd074ebfc1f6948b798506d51e720a44bacd11255430577518df2686c2159b"
   }
  }
 },
 "nbformat": 4,
 "nbformat_minor": 4
}
